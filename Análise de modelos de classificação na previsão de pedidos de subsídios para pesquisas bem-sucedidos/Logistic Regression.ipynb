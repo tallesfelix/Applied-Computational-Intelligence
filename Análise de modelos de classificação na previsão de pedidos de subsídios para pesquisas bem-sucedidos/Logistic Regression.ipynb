{
 "cells": [
  {
   "cell_type": "code",
   "execution_count": 70,
   "metadata": {},
   "outputs": [],
   "source": [
    "import numpy as np\n",
    "import pandas as pd\n",
    "from matplotlib import pyplot as plt\n",
    "from sklearn.linear_model import LogisticRegression\n",
    "import seaborn as sns\n",
    "sns.set()\n",
    "from sklearn.metrics import confusion_matrix, roc_curve, roc_auc_score, classification_report"
   ]
  },
  {
   "cell_type": "code",
   "execution_count": 98,
   "metadata": {},
   "outputs": [],
   "source": [
    "test = pd.read_csv('testing.csv')\n",
    "training = pd.read_csv('training.csv')\n",
    "reducedSet = pd.read_csv('reducedSet.csv')\n",
    "\n",
    "reducedColumns = reducedSet['x'].array\n",
    "\n",
    "x_train = training.iloc[:,0:1881]\n",
    "x_test = test.iloc[:,0:1881]\n",
    "\n",
    "x_train_reduced = training[reducedColumns]\n",
    "x_test_reduced = test[reducedColumns]\n",
    "\n",
    "y_train = training['Class']\n",
    "y_test = test['Class']"
   ]
  },
  {
   "cell_type": "code",
   "execution_count": 63,
   "metadata": {},
   "outputs": [
    {
     "data": {
      "text/plain": [
       "LogisticRegression(C=1.0, class_weight=None, dual=False, fit_intercept=True,\n",
       "                   intercept_scaling=1, l1_ratio=None, max_iter=100,\n",
       "                   multi_class='warn', n_jobs=None, penalty='l2',\n",
       "                   random_state=None, solver='liblinear', tol=0.0001, verbose=0,\n",
       "                   warm_start=False)"
      ]
     },
     "execution_count": 63,
     "metadata": {},
     "output_type": "execute_result"
    }
   ],
   "source": [
    "lr = LogisticRegression(solver='liblinear')\n",
    "lr.fit(x_train,y_train)"
   ]
  },
  {
   "cell_type": "code",
   "execution_count": 64,
   "metadata": {},
   "outputs": [
    {
     "name": "stdout",
     "output_type": "stream",
     "text": [
      "[[ 0.33331507  0.21051172  0.42820054 ...  0.47757372  0.16730452\n",
      "  -0.00941143]]\n",
      "[-0.03666239]\n"
     ]
    }
   ],
   "source": [
    "print(lr.coef_)\n",
    "print(lr.intercept_)"
   ]
  },
  {
   "cell_type": "code",
   "execution_count": 65,
   "metadata": {},
   "outputs": [],
   "source": [
    "y_pred = lr.predict(x_test)"
   ]
  },
  {
   "cell_type": "code",
   "execution_count": 66,
   "metadata": {},
   "outputs": [
    {
     "data": {
      "text/plain": [
       "array([[147,  42],\n",
       "       [ 49, 280]])"
      ]
     },
     "execution_count": 66,
     "metadata": {},
     "output_type": "execute_result"
    }
   ],
   "source": [
    "cm = confusion_matrix(y_test, y_pred)\n",
    "\n",
    "tp = cm[0,0]\n",
    "tn = cm[1,1]\n",
    "fn = cm[1,0]\n",
    "fp = cm[0,1]\n",
    "\n",
    "cm"
   ]
  },
  {
   "cell_type": "code",
   "execution_count": 68,
   "metadata": {},
   "outputs": [
    {
     "name": "stdout",
     "output_type": "stream",
     "text": [
      "0.8243243243243243\n",
      "0.75\n",
      "0.8695652173913043\n",
      "0.13043478260869568\n"
     ]
    }
   ],
   "source": [
    "accuracy = (tp + tn)/ (tp + tn + fn + fp)\n",
    "sensitivity = tp/ (tp + fn) #Or TPR (True positive rate)\n",
    "specificity = tn / (tn+fp)\n",
    "fpr = 1 - specificity #False positive rate\n",
    "\n",
    "print(accuracy)\n",
    "print(sensitivity)\n",
    "print(specificity)\n",
    "print(fpr)"
   ]
  },
  {
   "cell_type": "code",
   "execution_count": 40,
   "metadata": {},
   "outputs": [],
   "source": [
    "predic_proba = lr.predict_proba(x_test)"
   ]
  },
  {
   "cell_type": "code",
   "execution_count": 41,
   "metadata": {},
   "outputs": [
    {
     "name": "stdout",
     "output_type": "stream",
     "text": [
      "              precision    recall  f1-score   support\n",
      "\n",
      "  successful       0.75      0.78      0.76       189\n",
      "unsuccessful       0.87      0.85      0.86       329\n",
      "\n",
      "    accuracy                           0.82       518\n",
      "   macro avg       0.81      0.81      0.81       518\n",
      "weighted avg       0.83      0.82      0.82       518\n",
      "\n"
     ]
    }
   ],
   "source": [
    "print(classification_report(y_test, y_pred))"
   ]
  },
  {
   "cell_type": "code",
   "execution_count": 42,
   "metadata": {},
   "outputs": [],
   "source": [
    "y_test_binary = [1 if x=='successful' else 0 for x in y_test]\n",
    "y_pred_binary = [1 if x=='successful' else 0 for x in y_pred]"
   ]
  },
  {
   "cell_type": "code",
   "execution_count": 43,
   "metadata": {},
   "outputs": [
    {
     "name": "stdout",
     "output_type": "stream",
     "text": [
      "0.8144208037825059\n"
     ]
    }
   ],
   "source": [
    "lr_auc = roc_auc_score(y_test_binary, y_pred_binary)\n",
    "print(lr_auc)"
   ]
  },
  {
   "cell_type": "code",
   "execution_count": 44,
   "metadata": {},
   "outputs": [
    {
     "data": {
      "image/png": "[encoded data removed]",
      "text/plain": [
       "<Figure size 432x288 with 1 Axes>"
      ]
     },
     "metadata": {
      "needs_background": "light"
     },
     "output_type": "display_data"
    }
   ],
   "source": [
    "fpr, tpr, threshold = roc_curve(y_test_binary, predic_proba[:, 0])\n",
    "\n",
    "plt.plot([0,1],[0,1],'r--')\n",
    "plt.plot(fpr,tpr, label='Logistic Regression AUC= %0.3f' % lr_auc)\n",
    "plt.legend(loc='lower right')\n",
    "plt.xlabel('False positive rate')\n",
    "plt.ylabel('True positive rate'),9.\n",
    "plt.title('Logistic Regression ROC curve')\n",
    "plt.show()"
   ]
  },
  {
   "cell_type": "code",
   "execution_count": 46,
   "metadata": {},
   "outputs": [
    {
     "data": {
      "text/plain": [
       "LogisticRegression(C=1.0, class_weight=None, dual=False, fit_intercept=True,\n",
       "                   intercept_scaling=1, l1_ratio=None, max_iter=100,\n",
       "                   multi_class='warn', n_jobs=None, penalty='l2',\n",
       "                   random_state=None, solver='liblinear', tol=0.0001, verbose=0,\n",
       "                   warm_start=False)"
      ]
     },
     "execution_count": 46,
     "metadata": {},
     "output_type": "execute_result"
    }
   ],
   "source": [
    "lr_reduced = LogisticRegression(solver='liblinear')\n",
    "lr_reduced.fit(x_train_reduced,y_train)"
   ]
  },
  {
   "cell_type": "code",
   "execution_count": 47,
   "metadata": {},
   "outputs": [
    {
     "name": "stdout",
     "output_type": "stream",
     "text": [
      "[[ 2.15420210e-01  9.45211024e-02  2.59050269e-01  1.09936263e-01\n",
      "  -2.48871548e-01 -1.49005635e+00  1.01829467e-03 -1.25323636e-01\n",
      "   7.61284304e-03 -1.34349513e-01 -8.45391864e-02  5.43065197e-01\n",
      "   2.11825696e-01 -1.83839986e-01  1.08005558e-01  1.53828742e-03\n",
      "   6.92718172e-01  1.86761680e-01  7.31054194e-02  2.34117917e-01\n",
      "   3.58458026e-01  1.67967196e-01 -1.33949852e-01  2.90829449e-01\n",
      "   4.53965017e-02  1.85931106e-01  1.15613016e-01 -1.76850423e-01\n",
      "  -8.20689130e-02  1.62285104e-01 -4.30465354e-01  3.58905983e-01\n",
      "   1.04312383e-01 -4.88107408e-01  2.61902878e-02 -1.48656924e-01\n",
      "  -1.82799376e-01 -6.87930023e-01 -3.70425891e-01 -5.78775953e-01\n",
      "   3.39735108e-01  2.85113329e-01 -3.66061480e-01  3.55441528e-01\n",
      "   3.46392697e-01 -4.07168148e-01  1.68220150e-01  3.26558877e-01\n",
      "  -1.65379329e-01 -2.64181377e-01 -2.91994162e-01  9.24680329e-02\n",
      "   3.23395085e-02  1.27467966e-01 -4.62341242e-01 -2.48640057e-01\n",
      "   3.11667454e-01 -9.61973184e-03 -1.35634867e-01  1.07665703e-01\n",
      "   3.03749591e-01  8.08857042e-02 -3.40897628e-01 -1.39848174e-01\n",
      "  -2.79739362e-01 -2.10028541e-01 -5.79285942e-01 -2.50707394e-01\n",
      "  -5.29368400e-02  7.58088383e-01  1.67196666e-01 -4.96859932e-01\n",
      "  -4.42046008e-01 -1.76325115e-01 -2.32305514e-01  2.31637488e-01\n",
      "  -4.16887146e-01 -7.61233380e-02 -1.32178784e-01  2.73791013e-01\n",
      "   2.83037134e-01 -6.59484837e-02  3.28894172e-01  3.15668910e-01\n",
      "   2.47428643e-01 -1.97562105e-01  1.92369061e-01  8.20780308e-01\n",
      "   2.34904397e-02 -6.63425649e-03 -4.63332920e-01  3.60708943e-01\n",
      "   9.45237862e-02  3.06428978e-01  9.73368693e-01 -1.23320916e-01\n",
      "   8.86310719e-02 -5.33423522e-01  2.09709645e-02  5.32834785e-01\n",
      "  -1.44199997e-01 -1.34975695e-01 -2.93238600e-01 -1.84996384e-01\n",
      "  -4.98846088e-01 -3.67882713e-01 -5.48363853e-01 -1.99953148e-01\n",
      "   2.61353278e-02  3.19983831e-02  1.63197150e-02 -1.82784024e-01\n",
      "  -4.13059304e-03  7.47102884e-02 -1.76679267e-01 -3.17828593e-02\n",
      "  -4.30881454e-02 -1.76176792e-02  1.82943646e-01 -3.59093468e-01\n",
      "   7.35098985e-01 -5.73843298e-01 -3.67057825e-01  8.89987538e-01\n",
      "  -1.42339325e-01  8.42052716e-02 -1.86714374e-01 -6.20225534e-01\n",
      "   2.20176774e-01 -4.30647411e-01 -3.16642826e-01  1.01240581e+00\n",
      "  -2.63178591e-01  2.48772143e-01 -1.67472032e-01 -4.68361522e-02\n",
      "   1.66727650e-02 -4.32566882e-01 -8.03997227e-02 -2.28604113e-01\n",
      "  -2.00627027e-02  2.85017932e-01 -2.11369729e-01 -4.13668253e-01\n",
      "  -1.49163982e-01 -1.81086220e-01  1.36227111e-01 -3.53690697e-01\n",
      "   1.43210029e-01 -2.50317175e-01  2.30683091e-01 -2.92941744e-01\n",
      "   5.10220139e-02 -4.01251612e-01 -1.01312874e-01 -8.81049190e-02\n",
      "  -2.95360754e-02 -4.63876881e-02 -5.41530378e-01  1.71025567e-01\n",
      "   4.35851678e-01  2.51838364e-01 -1.21606413e-01  3.72427704e-02\n",
      "  -4.77786538e-01 -4.46189500e-03 -3.15415737e-01  2.48520234e-01\n",
      "   4.76130215e-02  2.74078486e-01  1.43808850e-01 -9.75519388e-01\n",
      "  -2.47721778e-01  4.54843478e-01  1.09768858e+00 -2.27536498e-01\n",
      "   2.67308713e-01  3.95368509e-01  2.25702603e-01  4.50118958e-02\n",
      "   1.70759472e-01  2.83695034e-01 -1.07416655e-02 -1.07652181e-01\n",
      "   3.10454940e-01  3.20475320e-02 -2.91358393e-01 -1.01481153e-01\n",
      "   3.03855100e-01  4.02033237e-01  2.88106204e-01  1.27682827e-01\n",
      "  -1.03509176e-01  7.30684348e-01  1.74212872e-02 -6.69722660e-01\n",
      "  -5.73306551e-02  2.55382410e-01 -2.52823067e-01 -6.58396962e-01\n",
      "   2.60565200e-02  1.70703489e+00  5.03931910e-03 -1.11258274e+00\n",
      "  -8.67378188e-01 -6.53480786e-01  2.87541467e-01 -8.72492270e-01\n",
      "   8.90506372e-01 -1.14330977e+00  6.44382330e-01  1.30672886e+00\n",
      "   2.45812607e+00 -1.19508629e+00  3.60985235e-01 -1.26978127e+00\n",
      "  -8.54050997e-01 -9.63050871e-01 -1.44633428e+00 -1.59007857e+00\n",
      "  -1.84900614e+00 -1.42422989e+00 -1.34268265e-01  1.37084377e+00\n",
      "   5.91224149e-01  1.18651014e-01 -5.61744451e-02  3.94636170e-01\n",
      "   6.91817762e-01  2.30574304e-01  4.18994945e-01  1.50099154e+00\n",
      "  -2.53686147e-01 -2.49293924e+00  8.35381238e-01  7.11980342e-01\n",
      "  -7.77611236e-01 -1.98882166e-01 -2.32842508e+00 -9.11271687e-02\n",
      "   1.53175432e-01  1.93330768e-01  9.46151404e-02  8.19232817e-02\n",
      "   3.98009237e-01  1.23685763e+00  1.25108444e+00  4.93447426e-01\n",
      "   1.08081077e+00  1.23446915e+00  9.64392083e-01 -6.75784254e-03]]\n",
      "[-0.27322166]\n"
     ]
    }
   ],
   "source": [
    "print(lr_reduced.coef_)\n",
    "print(lr_reduced.intercept_)"
   ]
  },
  {
   "cell_type": "code",
   "execution_count": 48,
   "metadata": {},
   "outputs": [],
   "source": [
    "y_pred_reduced = lr_reduced.predict(x_test_reduced)"
   ]
  },
  {
   "cell_type": "code",
   "execution_count": 49,
   "metadata": {},
   "outputs": [
    {
     "data": {
      "text/plain": [
       "array([[150,  39],\n",
       "       [ 46, 283]])"
      ]
     },
     "execution_count": 49,
     "metadata": {},
     "output_type": "execute_result"
    }
   ],
   "source": [
    "cm_reduced = confusion_matrix(y_test, y_pred_reduced)\n",
    "\n",
    "tp_reduced = cm_reduced[0,0]\n",
    "tn_reduced = cm_reduced[1,1]\n",
    "fn_reduced = cm_reduced[1,0]\n",
    "fp_reduced = cm_reduced[0,1]\n",
    "\n",
    "cm_reduced"
   ]
  },
  {
   "cell_type": "code",
   "execution_count": 69,
   "metadata": {},
   "outputs": [
    {
     "name": "stdout",
     "output_type": "stream",
     "text": [
      "0.8359073359073359\n",
      "0.7653061224489796\n",
      "0.8788819875776398\n",
      "0.1211180124223602\n"
     ]
    }
   ],
   "source": [
    "accuracy_reduced = (tp_reduced + tn_reduced)/ (tp_reduced + tn_reduced + fn_reduced + fp_reduced)\n",
    "sensitivity_reduced = tp_reduced/ (tp_reduced + fn_reduced) #Or TPR (True positive rate)\n",
    "specificity_reduced = tn_reduced / (tn_reduced+fp_reduced)\n",
    "fpr_reduced = 1 - specificity_reduced #False positive rate\n",
    "\n",
    "print(accuracy_reduced)\n",
    "print(sensitivity_reduced)\n",
    "print(specificity_reduced)\n",
    "print(fpr_reduced)"
   ]
  },
  {
   "cell_type": "code",
   "execution_count": 51,
   "metadata": {},
   "outputs": [],
   "source": [
    "predic_proba_reduced = lr_reduced.predict_proba(x_test_reduced)"
   ]
  },
  {
   "cell_type": "code",
   "execution_count": 52,
   "metadata": {},
   "outputs": [
    {
     "name": "stdout",
     "output_type": "stream",
     "text": [
      "              precision    recall  f1-score   support\n",
      "\n",
      "  successful       0.77      0.79      0.78       189\n",
      "unsuccessful       0.88      0.86      0.87       329\n",
      "\n",
      "    accuracy                           0.84       518\n",
      "   macro avg       0.82      0.83      0.82       518\n",
      "weighted avg       0.84      0.84      0.84       518\n",
      "\n"
     ]
    }
   ],
   "source": [
    "print(classification_report(y_test, y_pred_reduced))"
   ]
  },
  {
   "cell_type": "code",
   "execution_count": 53,
   "metadata": {},
   "outputs": [],
   "source": [
    "y_test_binary = [1 if x=='successful' else 0 for x in y_test]\n",
    "y_pred_binary_reduced = [1 if x=='successful' else 0 for x in y_pred_reduced]"
   ]
  },
  {
   "cell_type": "code",
   "execution_count": 54,
   "metadata": {},
   "outputs": [
    {
     "name": "stdout",
     "output_type": "stream",
     "text": [
      "0.8269165822357312\n"
     ]
    }
   ],
   "source": [
    "lr_auc_reduced = roc_auc_score(y_test_binary, y_pred_binary_reduced)\n",
    "print(lr_auc_reduced)"
   ]
  },
  {
   "cell_type": "code",
   "execution_count": 55,
   "metadata": {},
   "outputs": [
    {
     "data": {
      "image/png": "[encoded data removed]",
      "text/plain": [
       "<Figure size 432x288 with 1 Axes>"
      ]
     },
     "metadata": {
      "needs_background": "light"
     },
     "output_type": "display_data"
    }
   ],
   "source": [
    "fpr_reduced, tpr_reduced, threshold_reduced = roc_curve(y_test_binary, predic_proba_reduced[:, 0])\n",
    "\n",
    "plt.plot([0,1],[0,1],'r--')\n",
    "plt.plot(fpr_reduced,tpr_reduced, label='Logistic Regression AUC= %0.3f' % lr_auc_reduced)\n",
    "plt.legend(loc='lower right')\n",
    "plt.xlabel('False positive rate')\n",
    "plt.ylabel('True positive rate')\n",
    "plt.title('Logistic Regression ROC curve')\n",
    "plt.show()"
   ]
  }
 ],
 "metadata": {
  "kernelspec": {
   "display_name": "Python 3",
   "language": "python",
   "name": "python3"
  },
  "language_info": {
   "codemirror_mode": {
    "name": "ipython",
    "version": 3
   },
   "file_extension": ".py",
   "mimetype": "text/x-python",
   "name": "python",
   "nbconvert_exporter": "python",
   "pygments_lexer": "ipython3",
   "version": "3.7.3"
  }
 },
 "nbformat": 4,
 "nbformat_minor": 2
}
